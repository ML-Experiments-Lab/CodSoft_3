{
 "cells": [
  {
   "cell_type": "code",
   "execution_count": 54,
   "id": "0a38ec46-d5e4-412f-9cf7-6e095ab68b07",
   "metadata": {},
   "outputs": [],
   "source": [
    "import pandas as pd\n",
    "import numpy as np\n",
    "import matplotlib.pyplot as plt\n",
    "import seaborn as sns\n",
    "from sklearn.model_selection import train_test_split\n",
    "from sklearn.feature_selection import SelectKBest, mutual_info_classif\n",
    "from sklearn.preprocessing import StandardScaler\n",
    "from sklearn.linear_model import LogisticRegression\n",
    "from sklearn.ensemble import RandomForestClassifier\n",
    "from sklearn.tree import DecisionTreeClassifier\n",
    "from sklearn.neighbors import KNeighborsClassifier\n",
    "from sklearn.metrics import accuracy_score, confusion_matrix,classification_report, precision_recall_curve\n",
    "from imblearn.over_sampling import SMOTE\n",
    "import pickle"
   ]
  },
  {
   "cell_type": "code",
   "execution_count": 55,
   "id": "54fd3ad5-ff13-4f27-b699-71a038023611",
   "metadata": {},
   "outputs": [],
   "source": [
    "df_train = pd.read_csv(\"C:\\\\Users\\\\91878\\\\Downloads\\\\fraudTrain.csv\")\n",
    "df_test = pd.read_csv(\"C:\\\\Users\\\\91878\\\\Downloads\\\\fraudTest.csv\")"
   ]
  },
  {
   "cell_type": "code",
   "execution_count": 56,
   "id": "a3ee456e-3036-449c-a09f-e533cadc19a5",
   "metadata": {},
   "outputs": [],
   "source": [
    "df_train['is_train'] = 1  # Mark train rows\n",
    "df_test['is_train'] = 0   # Mark test rows\n",
    "df_combined = pd.concat([df_train, df_test], ignore_index=True)"
   ]
  },
  {
   "cell_type": "code",
   "execution_count": 57,
   "id": "669c0825-cfe4-49f9-85f5-d18e40661059",
   "metadata": {},
   "outputs": [
    {
     "data": {
      "text/html": [
       "<div>\n",
       "<style scoped>\n",
       "    .dataframe tbody tr th:only-of-type {\n",
       "        vertical-align: middle;\n",
       "    }\n",
       "\n",
       "    .dataframe tbody tr th {\n",
       "        vertical-align: top;\n",
       "    }\n",
       "\n",
       "    .dataframe thead th {\n",
       "        text-align: right;\n",
       "    }\n",
       "</style>\n",
       "<table border=\"1\" class=\"dataframe\">\n",
       "  <thead>\n",
       "    <tr style=\"text-align: right;\">\n",
       "      <th></th>\n",
       "      <th>Unnamed: 0</th>\n",
       "      <th>trans_date_trans_time</th>\n",
       "      <th>cc_num</th>\n",
       "      <th>merchant</th>\n",
       "      <th>category</th>\n",
       "      <th>amt</th>\n",
       "      <th>first</th>\n",
       "      <th>last</th>\n",
       "      <th>gender</th>\n",
       "      <th>street</th>\n",
       "      <th>...</th>\n",
       "      <th>long</th>\n",
       "      <th>city_pop</th>\n",
       "      <th>job</th>\n",
       "      <th>dob</th>\n",
       "      <th>trans_num</th>\n",
       "      <th>unix_time</th>\n",
       "      <th>merch_lat</th>\n",
       "      <th>merch_long</th>\n",
       "      <th>is_fraud</th>\n",
       "      <th>is_train</th>\n",
       "    </tr>\n",
       "  </thead>\n",
       "  <tbody>\n",
       "    <tr>\n",
       "      <th>0</th>\n",
       "      <td>0</td>\n",
       "      <td>2019-01-01 00:00:18</td>\n",
       "      <td>2703186189652095</td>\n",
       "      <td>fraud_Rippin, Kub and Mann</td>\n",
       "      <td>misc_net</td>\n",
       "      <td>4.97</td>\n",
       "      <td>Jennifer</td>\n",
       "      <td>Banks</td>\n",
       "      <td>F</td>\n",
       "      <td>561 Perry Cove</td>\n",
       "      <td>...</td>\n",
       "      <td>-81.1781</td>\n",
       "      <td>3495</td>\n",
       "      <td>Psychologist, counselling</td>\n",
       "      <td>1988-03-09</td>\n",
       "      <td>0b242abb623afc578575680df30655b9</td>\n",
       "      <td>1325376018</td>\n",
       "      <td>36.011293</td>\n",
       "      <td>-82.048315</td>\n",
       "      <td>0</td>\n",
       "      <td>1</td>\n",
       "    </tr>\n",
       "    <tr>\n",
       "      <th>1</th>\n",
       "      <td>1</td>\n",
       "      <td>2019-01-01 00:00:44</td>\n",
       "      <td>630423337322</td>\n",
       "      <td>fraud_Heller, Gutmann and Zieme</td>\n",
       "      <td>grocery_pos</td>\n",
       "      <td>107.23</td>\n",
       "      <td>Stephanie</td>\n",
       "      <td>Gill</td>\n",
       "      <td>F</td>\n",
       "      <td>43039 Riley Greens Suite 393</td>\n",
       "      <td>...</td>\n",
       "      <td>-118.2105</td>\n",
       "      <td>149</td>\n",
       "      <td>Special educational needs teacher</td>\n",
       "      <td>1978-06-21</td>\n",
       "      <td>1f76529f8574734946361c461b024d99</td>\n",
       "      <td>1325376044</td>\n",
       "      <td>49.159047</td>\n",
       "      <td>-118.186462</td>\n",
       "      <td>0</td>\n",
       "      <td>1</td>\n",
       "    </tr>\n",
       "    <tr>\n",
       "      <th>2</th>\n",
       "      <td>2</td>\n",
       "      <td>2019-01-01 00:00:51</td>\n",
       "      <td>38859492057661</td>\n",
       "      <td>fraud_Lind-Buckridge</td>\n",
       "      <td>entertainment</td>\n",
       "      <td>220.11</td>\n",
       "      <td>Edward</td>\n",
       "      <td>Sanchez</td>\n",
       "      <td>M</td>\n",
       "      <td>594 White Dale Suite 530</td>\n",
       "      <td>...</td>\n",
       "      <td>-112.2620</td>\n",
       "      <td>4154</td>\n",
       "      <td>Nature conservation officer</td>\n",
       "      <td>1962-01-19</td>\n",
       "      <td>a1a22d70485983eac12b5b88dad1cf95</td>\n",
       "      <td>1325376051</td>\n",
       "      <td>43.150704</td>\n",
       "      <td>-112.154481</td>\n",
       "      <td>0</td>\n",
       "      <td>1</td>\n",
       "    </tr>\n",
       "    <tr>\n",
       "      <th>3</th>\n",
       "      <td>3</td>\n",
       "      <td>2019-01-01 00:01:16</td>\n",
       "      <td>3534093764340240</td>\n",
       "      <td>fraud_Kutch, Hermiston and Farrell</td>\n",
       "      <td>gas_transport</td>\n",
       "      <td>45.00</td>\n",
       "      <td>Jeremy</td>\n",
       "      <td>White</td>\n",
       "      <td>M</td>\n",
       "      <td>9443 Cynthia Court Apt. 038</td>\n",
       "      <td>...</td>\n",
       "      <td>-112.1138</td>\n",
       "      <td>1939</td>\n",
       "      <td>Patent attorney</td>\n",
       "      <td>1967-01-12</td>\n",
       "      <td>6b849c168bdad6f867558c3793159a81</td>\n",
       "      <td>1325376076</td>\n",
       "      <td>47.034331</td>\n",
       "      <td>-112.561071</td>\n",
       "      <td>0</td>\n",
       "      <td>1</td>\n",
       "    </tr>\n",
       "    <tr>\n",
       "      <th>4</th>\n",
       "      <td>4</td>\n",
       "      <td>2019-01-01 00:03:06</td>\n",
       "      <td>375534208663984</td>\n",
       "      <td>fraud_Keeling-Crist</td>\n",
       "      <td>misc_pos</td>\n",
       "      <td>41.96</td>\n",
       "      <td>Tyler</td>\n",
       "      <td>Garcia</td>\n",
       "      <td>M</td>\n",
       "      <td>408 Bradley Rest</td>\n",
       "      <td>...</td>\n",
       "      <td>-79.4629</td>\n",
       "      <td>99</td>\n",
       "      <td>Dance movement psychotherapist</td>\n",
       "      <td>1986-03-28</td>\n",
       "      <td>a41d7549acf90789359a9aa5346dcb46</td>\n",
       "      <td>1325376186</td>\n",
       "      <td>38.674999</td>\n",
       "      <td>-78.632459</td>\n",
       "      <td>0</td>\n",
       "      <td>1</td>\n",
       "    </tr>\n",
       "  </tbody>\n",
       "</table>\n",
       "<p>5 rows × 24 columns</p>\n",
       "</div>"
      ],
      "text/plain": [
       "   Unnamed: 0 trans_date_trans_time            cc_num  \\\n",
       "0           0   2019-01-01 00:00:18  2703186189652095   \n",
       "1           1   2019-01-01 00:00:44      630423337322   \n",
       "2           2   2019-01-01 00:00:51    38859492057661   \n",
       "3           3   2019-01-01 00:01:16  3534093764340240   \n",
       "4           4   2019-01-01 00:03:06   375534208663984   \n",
       "\n",
       "                             merchant       category     amt      first  \\\n",
       "0          fraud_Rippin, Kub and Mann       misc_net    4.97   Jennifer   \n",
       "1     fraud_Heller, Gutmann and Zieme    grocery_pos  107.23  Stephanie   \n",
       "2                fraud_Lind-Buckridge  entertainment  220.11     Edward   \n",
       "3  fraud_Kutch, Hermiston and Farrell  gas_transport   45.00     Jeremy   \n",
       "4                 fraud_Keeling-Crist       misc_pos   41.96      Tyler   \n",
       "\n",
       "      last gender                        street  ...      long city_pop  \\\n",
       "0    Banks      F                561 Perry Cove  ...  -81.1781     3495   \n",
       "1     Gill      F  43039 Riley Greens Suite 393  ... -118.2105      149   \n",
       "2  Sanchez      M      594 White Dale Suite 530  ... -112.2620     4154   \n",
       "3    White      M   9443 Cynthia Court Apt. 038  ... -112.1138     1939   \n",
       "4   Garcia      M              408 Bradley Rest  ...  -79.4629       99   \n",
       "\n",
       "                                 job         dob  \\\n",
       "0          Psychologist, counselling  1988-03-09   \n",
       "1  Special educational needs teacher  1978-06-21   \n",
       "2        Nature conservation officer  1962-01-19   \n",
       "3                    Patent attorney  1967-01-12   \n",
       "4     Dance movement psychotherapist  1986-03-28   \n",
       "\n",
       "                          trans_num   unix_time  merch_lat  merch_long  \\\n",
       "0  0b242abb623afc578575680df30655b9  1325376018  36.011293  -82.048315   \n",
       "1  1f76529f8574734946361c461b024d99  1325376044  49.159047 -118.186462   \n",
       "2  a1a22d70485983eac12b5b88dad1cf95  1325376051  43.150704 -112.154481   \n",
       "3  6b849c168bdad6f867558c3793159a81  1325376076  47.034331 -112.561071   \n",
       "4  a41d7549acf90789359a9aa5346dcb46  1325376186  38.674999  -78.632459   \n",
       "\n",
       "  is_fraud  is_train  \n",
       "0        0         1  \n",
       "1        0         1  \n",
       "2        0         1  \n",
       "3        0         1  \n",
       "4        0         1  \n",
       "\n",
       "[5 rows x 24 columns]"
      ]
     },
     "execution_count": 57,
     "metadata": {},
     "output_type": "execute_result"
    }
   ],
   "source": [
    "df_combined.head()"
   ]
  },
  {
   "cell_type": "code",
   "execution_count": 58,
   "id": "058f7b3e-bf31-4421-ac9a-7676e8d35d65",
   "metadata": {},
   "outputs": [
    {
     "name": "stdout",
     "output_type": "stream",
     "text": [
      "<class 'pandas.core.frame.DataFrame'>\n",
      "RangeIndex: 1852394 entries, 0 to 1852393\n",
      "Data columns (total 24 columns):\n",
      " #   Column                 Dtype  \n",
      "---  ------                 -----  \n",
      " 0   Unnamed: 0             int64  \n",
      " 1   trans_date_trans_time  object \n",
      " 2   cc_num                 int64  \n",
      " 3   merchant               object \n",
      " 4   category               object \n",
      " 5   amt                    float64\n",
      " 6   first                  object \n",
      " 7   last                   object \n",
      " 8   gender                 object \n",
      " 9   street                 object \n",
      " 10  city                   object \n",
      " 11  state                  object \n",
      " 12  zip                    int64  \n",
      " 13  lat                    float64\n",
      " 14  long                   float64\n",
      " 15  city_pop               int64  \n",
      " 16  job                    object \n",
      " 17  dob                    object \n",
      " 18  trans_num              object \n",
      " 19  unix_time              int64  \n",
      " 20  merch_lat              float64\n",
      " 21  merch_long             float64\n",
      " 22  is_fraud               int64  \n",
      " 23  is_train               int64  \n",
      "dtypes: float64(5), int64(7), object(12)\n",
      "memory usage: 339.2+ MB\n"
     ]
    }
   ],
   "source": [
    "# Explore data types\n",
    "df_combined.info()"
   ]
  },
  {
   "cell_type": "code",
   "execution_count": 59,
   "id": "9a1198db-bdb5-4ae6-8e4f-cc8ffb18bbf8",
   "metadata": {},
   "outputs": [],
   "source": [
    "# Drop irrelevant columns\n",
    "columns_to_drop = ['Unnamed: 0', 'trans_date_trans_time', 'first', 'last', 'street', 'trans_num', 'dob', 'unix_time']\n",
    "df_combined = df_combined.drop(columns=columns_to_drop)"
   ]
  },
  {
   "cell_type": "code",
   "execution_count": 60,
   "id": "4fdad52c-b4c2-47a1-8d0e-8061bb59f055",
   "metadata": {},
   "outputs": [
    {
     "data": {
      "text/plain": [
       "cc_num        0\n",
       "merchant      0\n",
       "category      0\n",
       "amt           0\n",
       "gender        0\n",
       "city          0\n",
       "state         0\n",
       "zip           0\n",
       "lat           0\n",
       "long          0\n",
       "city_pop      0\n",
       "job           0\n",
       "merch_lat     0\n",
       "merch_long    0\n",
       "is_fraud      0\n",
       "is_train      0\n",
       "dtype: int64"
      ]
     },
     "execution_count": 60,
     "metadata": {},
     "output_type": "execute_result"
    }
   ],
   "source": [
    "# Check for missing values\n",
    "df_combined.isnull().sum()"
   ]
  },
  {
   "cell_type": "code",
   "execution_count": 61,
   "id": "5d7df18c-43db-4458-a12c-5bc023c08e95",
   "metadata": {},
   "outputs": [
    {
     "data": {
      "text/plain": [
       "is_fraud\n",
       "0    1842743\n",
       "1       9651\n",
       "Name: count, dtype: int64"
      ]
     },
     "execution_count": 61,
     "metadata": {},
     "output_type": "execute_result"
    }
   ],
   "source": [
    "df_combined['is_fraud'].value_counts()   # 0 : Non-Fraudulent Transactions and 1 : Fraudulent Transactions"
   ]
  },
  {
   "cell_type": "code",
   "execution_count": 62,
   "id": "98340b2d-a11b-40da-a0aa-68a357681fb2",
   "metadata": {},
   "outputs": [
    {
     "data": {
      "text/plain": [
       "['merchant', 'category', 'gender', 'city', 'state', 'job']"
      ]
     },
     "execution_count": 62,
     "metadata": {},
     "output_type": "execute_result"
    }
   ],
   "source": [
    "categorical_columns = df_combined.select_dtypes(include=['object', 'category']).columns.tolist()\n",
    "categorical_columns"
   ]
  },
  {
   "cell_type": "code",
   "execution_count": 63,
   "id": "d34f08ca-19c3-4785-be1c-f743adc56d7f",
   "metadata": {},
   "outputs": [],
   "source": [
    "# Frequency encoding for each categorical column\n",
    "freq_encoding = {}\n",
    "for col in ['merchant', 'category', 'gender', 'state', 'job', 'city']:\n",
    "    freq = df_combined[col].value_counts() / len(df_combined)\n",
    "    freq_encoding[col] = freq.to_dict()\n",
    "    df_combined[col] = df_combined[col].map(freq)"
   ]
  },
  {
   "cell_type": "code",
   "execution_count": 64,
   "id": "46554d01-d404-420b-af52-7358d25d512c",
   "metadata": {},
   "outputs": [
    {
     "name": "stdout",
     "output_type": "stream",
     "text": [
      "Selected features: Index(['category', 'amt', 'gender', 'city', 'state', 'is_train'], dtype='object')\n"
     ]
    }
   ],
   "source": [
    "# Use SelectKBest to select top 5 best features\n",
    "k = 6  # Select top 6 features\n",
    "selector = SelectKBest(score_func=mutual_info_classif, k=k)\n",
    "df_combined_selected = selector.fit_transform(df_combined.drop(['is_fraud'], axis = 1), df_combined[\"is_fraud\"])\n",
    "\n",
    "mask = selector.get_support()        # Get the boolean mask of selected features\n",
    "selected_features = df_combined.drop(['is_fraud'], axis = 1).columns[mask]       # Get the selected feature names\n",
    "print(\"Selected features:\", selected_features)      # Print the selected features"
   ]
  },
  {
   "cell_type": "code",
   "execution_count": 65,
   "id": "4579c71c-5ce4-41e3-b761-d8d8227dd767",
   "metadata": {},
   "outputs": [],
   "source": [
    "outliers = []\n",
    "for feature in df_combined.select_dtypes(include=np.number).drop(columns=['is_train', 'is_fraud']).columns:\n",
    "    Q1 = df_combined[feature].quantile(0.25)\n",
    "    Q3 = df_combined[feature].quantile(0.75)\n",
    "    IQR = Q3 - Q1\n",
    "    lower_bound = Q1 - (1.5 * IQR)\n",
    "    upper_bound = Q3 + (1.5 * IQR)\n",
    "    # Capping and flooring outliers\n",
    "    df_combined[feature] = np.where(df_combined[feature] < lower_bound, lower_bound, df_combined[feature])\n",
    "    df_combined[feature] = np.where(df_combined[feature] > upper_bound, upper_bound, df_combined[feature])"
   ]
  },
  {
   "cell_type": "code",
   "execution_count": 66,
   "id": "5030b90a-c829-4ed5-b6d1-1e2678c4f8bf",
   "metadata": {},
   "outputs": [],
   "source": [
    "df_train = df_combined[df_combined['is_train'] == 1].drop(columns=['is_train', 'merchant', 'city_pop', 'merch_lat', 'merch_long', 'lat', 'long', 'job'])\n",
    "df_test = df_combined[df_combined['is_train'] == 0].drop(columns=['is_train', 'merchant', 'city_pop', 'merch_lat', 'merch_long', 'lat', 'long', 'job'])"
   ]
  },
  {
   "cell_type": "code",
   "execution_count": 67,
   "id": "ab8dbb18-bee4-4578-b3f0-0053ded008be",
   "metadata": {},
   "outputs": [
    {
     "name": "stdout",
     "output_type": "stream",
     "text": [
      "Class distribution after SMOTE: is_fraud\n",
      "0    1289169\n",
      "1    1289169\n",
      "Name: count, dtype: int64\n"
     ]
    }
   ],
   "source": [
    "x_train = df_train.drop(columns=['is_fraud'])\n",
    "y_train = df_train['is_fraud']\n",
    "\n",
    "x_test = df_test.drop(columns=['is_fraud'])\n",
    "y_test = df_test['is_fraud']\n",
    "\n",
    "# Address class imbalance using SMOTE\n",
    "smote = SMOTE(random_state=42)\n",
    "x_train_balanced, y_train_balanced = smote.fit_resample(x_train, y_train)\n",
    "\n",
    "print(\"Class distribution after SMOTE:\", y_train_balanced.value_counts())"
   ]
  },
  {
   "cell_type": "code",
   "execution_count": 68,
   "id": "74547d0b-9017-4ac9-98c4-636ef8e2758c",
   "metadata": {},
   "outputs": [],
   "source": [
    "scaler = StandardScaler()\n",
    "x_train_scaled = scaler.fit_transform(x_train_balanced)\n",
    "x_test_scaled = scaler.transform(x_test)"
   ]
  },
  {
   "cell_type": "markdown",
   "id": "c4df095f-ce94-4f5f-a290-e824660a1896",
   "metadata": {},
   "source": [
    "## 1. Logistic Regression"
   ]
  },
  {
   "cell_type": "code",
   "execution_count": 69,
   "id": "777e3b9e-c557-4c22-812a-95b7af4150a1",
   "metadata": {},
   "outputs": [
    {
     "name": "stdout",
     "output_type": "stream",
     "text": [
      "Accuracy on training data =  0.8363216925011383\n",
      "Classification Report: \n",
      "               precision    recall  f1-score   support\n",
      "\n",
      "           0       0.83      0.85      0.84   1289169\n",
      "           1       0.85      0.82      0.83   1289169\n",
      "\n",
      "    accuracy                           0.84   2578338\n",
      "   macro avg       0.84      0.84      0.84   2578338\n",
      "weighted avg       0.84      0.84      0.84   2578338\n",
      "\n",
      "Confusion Matrix: \n",
      " [[1097376  191793]\n",
      " [ 230225 1058944]]\n",
      "\n",
      "\n",
      "Accuracy on testing data =  0.8510488214367333\n",
      "Classification Report: \n",
      "               precision    recall  f1-score   support\n",
      "\n",
      "           0       1.00      0.85      0.92    553574\n",
      "           1       0.02      0.77      0.04      2145\n",
      "\n",
      "    accuracy                           0.85    555719\n",
      "   macro avg       0.51      0.81      0.48    555719\n",
      "weighted avg       1.00      0.85      0.92    555719\n",
      "\n",
      "Confusion Matrix: \n",
      " [[471295  82279]\n",
      " [   496   1649]]\n"
     ]
    }
   ],
   "source": [
    "model = LogisticRegression(random_state=42)\n",
    "model.fit(x_train_scaled, y_train_balanced)\n",
    "\n",
    "y_train_prediction = model.predict(x_train_scaled)\n",
    "training_data_accuracy = accuracy_score(y_train_balanced, y_train_prediction)\n",
    "print(\"Accuracy on training data = \", training_data_accuracy)\n",
    "print(\"Classification Report: \\n\", classification_report(y_train_balanced, y_train_prediction))\n",
    "print(\"Confusion Matrix: \\n\", confusion_matrix(y_train_balanced, y_train_prediction))\n",
    "\n",
    "y_test_pred_logistic = model.predict(x_test_scaled)\n",
    "testing_data_accuracy = accuracy_score(y_test, y_test_pred_logistic)\n",
    "print(\"\\n\\nAccuracy on testing data = \", testing_data_accuracy)\n",
    "print(\"Classification Report: \\n\", classification_report(y_test, y_test_pred_logistic))\n",
    "print(\"Confusion Matrix: \\n\", confusion_matrix(y_test, y_test_pred_logistic))"
   ]
  },
  {
   "cell_type": "markdown",
   "id": "b5630736-ff64-4c4e-9237-dfa2f8304f39",
   "metadata": {},
   "source": [
    "## 2. Random Forest"
   ]
  },
  {
   "cell_type": "code",
   "execution_count": 70,
   "id": "fdc33c38-ae85-407b-bcc1-7f97999d4c5c",
   "metadata": {},
   "outputs": [
    {
     "name": "stdout",
     "output_type": "stream",
     "text": [
      "Accuracy on training data =  0.9966001354360833\n",
      "Classification Report: \n",
      "               precision    recall  f1-score   support\n",
      "\n",
      "           0       1.00      0.99      1.00   1289169\n",
      "           1       0.99      1.00      1.00   1289169\n",
      "\n",
      "    accuracy                           1.00   2578338\n",
      "   macro avg       1.00      1.00      1.00   2578338\n",
      "weighted avg       1.00      1.00      1.00   2578338\n",
      "\n",
      "Confusion Matrix: \n",
      " [[1281675    7494]\n",
      " [   1272 1287897]]\n",
      "\n",
      "\n",
      "Accuracy on testing data =  0.9897934027809019\n",
      "Classification Report: \n",
      "               precision    recall  f1-score   support\n",
      "\n",
      "           0       1.00      0.99      0.99    553574\n",
      "           1       0.13      0.30      0.19      2145\n",
      "\n",
      "    accuracy                           0.99    555719\n",
      "   macro avg       0.57      0.65      0.59    555719\n",
      "weighted avg       0.99      0.99      0.99    555719\n",
      "\n",
      "Confusion Matrix: \n",
      " [[549401   4173]\n",
      " [  1499    646]]\n"
     ]
    }
   ],
   "source": [
    "rf = RandomForestClassifier(n_estimators=100, random_state=42)\n",
    "rf.fit(x_train_balanced, y_train_balanced)\n",
    "\n",
    "y_train_prediction = rf.predict(x_train_balanced)\n",
    "training_data_accuracy = accuracy_score(y_train_balanced, y_train_prediction)\n",
    "print(\"Accuracy on training data = \", training_data_accuracy)\n",
    "print(\"Classification Report: \\n\", classification_report(y_train_balanced, y_train_prediction))\n",
    "print(\"Confusion Matrix: \\n\", confusion_matrix(y_train_balanced, y_train_prediction))\n",
    "\n",
    "y_test_pred_rf = rf.predict(x_test)\n",
    "testing_data_accuracy = accuracy_score(y_test, y_test_pred_rf)\n",
    "print(\"\\n\\nAccuracy on testing data = \", testing_data_accuracy)\n",
    "print(\"Classification Report: \\n\", classification_report(y_test, y_test_pred_rf))\n",
    "print(\"Confusion Matrix: \\n\", confusion_matrix(y_test, y_test_pred_rf))"
   ]
  },
  {
   "cell_type": "markdown",
   "id": "2fbb76a2-8240-427c-ba61-d647c47aae7a",
   "metadata": {},
   "source": [
    "## 3. Decision Tree"
   ]
  },
  {
   "cell_type": "code",
   "execution_count": 71,
   "id": "ba339fa7-b901-490e-a283-65271900ada8",
   "metadata": {},
   "outputs": [
    {
     "name": "stdout",
     "output_type": "stream",
     "text": [
      "Accuracy on training data =  0.9966016868230619\n",
      "Classification Report: \n",
      "               precision    recall  f1-score   support\n",
      "\n",
      "           0       1.00      0.99      1.00   1289169\n",
      "           1       0.99      1.00      1.00   1289169\n",
      "\n",
      "    accuracy                           1.00   2578338\n",
      "   macro avg       1.00      1.00      1.00   2578338\n",
      "weighted avg       1.00      1.00      1.00   2578338\n",
      "\n",
      "Confusion Matrix: \n",
      " [[1281715    7454]\n",
      " [   1308 1287861]]\n",
      "\n",
      "\n",
      "Accuracy on testing data =  0.9903422413126058\n",
      "Classification Report: \n",
      "               precision    recall  f1-score   support\n",
      "\n",
      "           0       1.00      0.99      1.00    553574\n",
      "           1       0.15      0.31      0.20      2145\n",
      "\n",
      "    accuracy                           0.99    555719\n",
      "   macro avg       0.57      0.65      0.60    555719\n",
      "weighted avg       0.99      0.99      0.99    555719\n",
      "\n",
      "Confusion Matrix: \n",
      " [[549688   3886]\n",
      " [  1481    664]]\n"
     ]
    }
   ],
   "source": [
    "decision_tree = DecisionTreeClassifier(random_state=42)\n",
    "decision_tree.fit(x_train_balanced, y_train_balanced)\n",
    "\n",
    "y_train_prediction = decision_tree.predict(x_train_balanced)\n",
    "training_data_accuracy = accuracy_score(y_train_balanced, y_train_prediction)\n",
    "print(\"Accuracy on training data = \", training_data_accuracy)\n",
    "print(\"Classification Report: \\n\", classification_report(y_train_balanced, y_train_prediction))\n",
    "print(\"Confusion Matrix: \\n\", confusion_matrix(y_train_balanced, y_train_prediction))\n",
    "\n",
    "y_test_pred_dt = decision_tree.predict(x_test)\n",
    "testing_data_accuracy = accuracy_score(y_test, y_test_pred_dt)\n",
    "print(\"\\n\\nAccuracy on testing data = \", testing_data_accuracy)\n",
    "print(\"Classification Report: \\n\", classification_report(y_test, y_test_pred_dt))\n",
    "print(\"Confusion Matrix: \\n\", confusion_matrix(y_test, y_test_pred_dt))"
   ]
  },
  {
   "cell_type": "markdown",
   "id": "86a8ae8e-9ea1-4c05-93ae-f083f4292e93",
   "metadata": {},
   "source": [
    "## 4. K-Nearest Neighbors"
   ]
  },
  {
   "cell_type": "code",
   "execution_count": 72,
   "id": "21d2d12b-8923-488a-b167-00ccc66a921a",
   "metadata": {},
   "outputs": [
    {
     "name": "stdout",
     "output_type": "stream",
     "text": [
      "Accuracy on training data =  0.9512752013118528\n",
      "Classification Report: \n",
      "               precision    recall  f1-score   support\n",
      "\n",
      "           0       0.92      0.99      0.95   1289169\n",
      "           1       0.99      0.92      0.95   1289169\n",
      "\n",
      "    accuracy                           0.95   2578338\n",
      "   macro avg       0.95      0.95      0.95   2578338\n",
      "weighted avg       0.95      0.95      0.95   2578338\n",
      "\n",
      "Confusion Matrix: \n",
      " [[1271656   17513]\n",
      " [ 108116 1181053]]\n",
      "\n",
      "\n",
      "Accuracy on testing data =  0.9758349093696634\n",
      "Classification Report: \n",
      "               precision    recall  f1-score   support\n",
      "\n",
      "           0       1.00      0.98      0.99    553574\n",
      "           1       0.03      0.19      0.06      2145\n",
      "\n",
      "    accuracy                           0.98    555719\n",
      "   macro avg       0.51      0.58      0.52    555719\n",
      "weighted avg       0.99      0.98      0.98    555719\n",
      "\n",
      "Confusion Matrix: \n",
      " [[541893  11681]\n",
      " [  1748    397]]\n"
     ]
    }
   ],
   "source": [
    "knn = KNeighborsClassifier(n_neighbors=5)\n",
    "knn.fit(x_train_scaled, y_train_balanced)\n",
    "\n",
    "y_train_prediction = knn.predict(x_train_scaled)\n",
    "training_data_accuracy = accuracy_score(y_train_balanced, y_train_prediction)\n",
    "print(\"Accuracy on training data = \", training_data_accuracy)\n",
    "print(\"Classification Report: \\n\", classification_report(y_train_balanced, y_train_prediction))\n",
    "print(\"Confusion Matrix: \\n\", confusion_matrix(y_train_balanced, y_train_prediction))\n",
    "\n",
    "y_test_pred_knn = knn.predict(x_test_scaled)\n",
    "testing_data_accuracy = accuracy_score(y_test, y_test_pred_knn)\n",
    "print(\"\\n\\nAccuracy on testing data = \", testing_data_accuracy)\n",
    "print(\"Classification Report: \\n\", classification_report(y_test, y_test_pred_knn))\n",
    "print(\"Confusion Matrix: \\n\", confusion_matrix(y_test, y_test_pred_knn))"
   ]
  },
  {
   "cell_type": "code",
   "execution_count": 73,
   "id": "e5b8bf20-3774-403e-a703-be43ac491d03",
   "metadata": {},
   "outputs": [
    {
     "data": {
      "image/png": "[encoded data removed]",
      "text/plain": [
       "<Figure size 640x480 with 1 Axes>"
      ]
     },
     "metadata": {},
     "output_type": "display_data"
    }
   ],
   "source": [
    "# Final comparison of the model accuracies\n",
    "models = ['Random Forest', 'K-NN', 'Decision Tree', 'Logistic Regression']\n",
    "accuracies = [\n",
    "    accuracy_score(y_test, y_test_pred_rf),\n",
    "    accuracy_score(y_test, y_test_pred_knn),\n",
    "    accuracy_score(y_test, y_test_pred_dt),\n",
    "    accuracy_score(y_test, y_test_pred_logistic)\n",
    "]\n",
    "\n",
    "plt.bar(models, accuracies, color=['green', 'red', 'purple', 'orange'])\n",
    "plt.ylabel('Accuracy')\n",
    "plt.title('Model Accuracy Comparison')\n",
    "plt.show()"
   ]
  },
  {
   "cell_type": "code",
   "execution_count": 74,
   "id": "aeed0f44-6643-40c3-aa1c-78a8ecb79869",
   "metadata": {},
   "outputs": [
    {
     "name": "stderr",
     "output_type": "stream",
     "text": [
      "C:\\Users\\91878\\anaconda3\\Lib\\site-packages\\sklearn\\base.py:486: UserWarning: X has feature names, but LogisticRegression was fitted without feature names\n",
      "  warnings.warn(\n"
     ]
    },
    {
     "name": "stdout",
     "output_type": "stream",
     "text": [
      "\n",
      "Optimal Threshold: 0.0\n",
      "\n",
      "Testing Accuracy with Optimal Threshold: 0.0038598644278853163\n",
      "Testing Confusion Matrix with Optimal Threshold:\n",
      " [[     0 553574]\n",
      " [     0   2145]]\n"
     ]
    },
    {
     "name": "stderr",
     "output_type": "stream",
     "text": [
      "C:\\Users\\91878\\anaconda3\\Lib\\site-packages\\sklearn\\metrics\\_classification.py:1509: UndefinedMetricWarning: Precision is ill-defined and being set to 0.0 in labels with no predicted samples. Use `zero_division` parameter to control this behavior.\n",
      "  _warn_prf(average, modifier, f\"{metric.capitalize()} is\", len(result))\n",
      "C:\\Users\\91878\\anaconda3\\Lib\\site-packages\\sklearn\\metrics\\_classification.py:1509: UndefinedMetricWarning: Precision is ill-defined and being set to 0.0 in labels with no predicted samples. Use `zero_division` parameter to control this behavior.\n",
      "  _warn_prf(average, modifier, f\"{metric.capitalize()} is\", len(result))\n"
     ]
    },
    {
     "name": "stdout",
     "output_type": "stream",
     "text": [
      "Testing Classification Report with Optimal Threshold:\n",
      "               precision    recall  f1-score   support\n",
      "\n",
      "           0       0.00      0.00      0.00    553574\n",
      "           1       0.00      1.00      0.01      2145\n",
      "\n",
      "    accuracy                           0.00    555719\n",
      "   macro avg       0.00      0.50      0.00    555719\n",
      "weighted avg       0.00      0.00      0.00    555719\n",
      "\n"
     ]
    },
    {
     "name": "stderr",
     "output_type": "stream",
     "text": [
      "C:\\Users\\91878\\anaconda3\\Lib\\site-packages\\sklearn\\metrics\\_classification.py:1509: UndefinedMetricWarning: Precision is ill-defined and being set to 0.0 in labels with no predicted samples. Use `zero_division` parameter to control this behavior.\n",
      "  _warn_prf(average, modifier, f\"{metric.capitalize()} is\", len(result))\n"
     ]
    }
   ],
   "source": [
    "# Predict probabilities for test set\n",
    "y_test_prob = model.predict_proba(x_test)[:, 1]\n",
    "\n",
    "# Probabilistic Threshold Tuning with Precision-Recall Curve\n",
    "precision, recall, thresholds = precision_recall_curve(y_test, y_test_prob)\n",
    "f1_scores = 2 * (precision * recall) / (precision + recall)\n",
    "optimal_idx = np.argmax(f1_scores)  # Index with the highest F1 score\n",
    "optimal_threshold = thresholds[optimal_idx]\n",
    "\n",
    "# Predict with the optimal threshold\n",
    "y_test_pred_optimal = (y_test_prob >= optimal_threshold).astype(int)\n",
    "\n",
    "# Display metrics using the optimized threshold\n",
    "print(\"\\nOptimal Threshold:\", optimal_threshold)\n",
    "print(\"\\nTesting Accuracy with Optimal Threshold:\", accuracy_score(y_test, y_test_pred_optimal))\n",
    "print(\"Testing Confusion Matrix with Optimal Threshold:\\n\", confusion_matrix(y_test, y_test_pred_optimal))\n",
    "print(\"Testing Classification Report with Optimal Threshold:\\n\", classification_report(y_test, y_test_pred_optimal))"
   ]
  },
  {
   "cell_type": "code",
   "execution_count": 75,
   "id": "1c90e482-48a3-403f-b110-cb89d77736f1",
   "metadata": {},
   "outputs": [
    {
     "name": "stdout",
     "output_type": "stream",
     "text": [
      "\n",
      "Feature Importances:\n",
      "     feature  importance\n",
      "2       amt    0.533020\n",
      "1  category    0.302002\n",
      "4      city    0.080491\n",
      "6       zip    0.029909\n",
      "0    cc_num    0.028732\n",
      "5     state    0.018730\n",
      "3    gender    0.007117\n"
     ]
    }
   ],
   "source": [
    "# Feature importance\n",
    "importances = rf.feature_importances_\n",
    "feature_importance_df = pd.DataFrame({'feature': x_train.columns, 'importance': importances})\n",
    "feature_importance_df = feature_importance_df.sort_values(by='importance', ascending=False)\n",
    "print(\"\\nFeature Importances:\\n\", feature_importance_df)"
   ]
  },
  {
   "cell_type": "code",
   "execution_count": 76,
   "id": "8b18aa46-590e-4925-9659-6b374d5ff6a6",
   "metadata": {},
   "outputs": [],
   "source": [
    "with open('credit_card_fraud_detection.pickle', 'wb') as file:\n",
    "     pickle.dump(decision_tree, file)"
   ]
  },
  {
   "cell_type": "code",
   "execution_count": 77,
   "id": "d8f3ae05-0992-4f17-9fd4-fde4b2e5b2df",
   "metadata": {},
   "outputs": [],
   "source": [
    "# Save the frequency encoding mappings\n",
    "with open('frequency_encoding.pickle', 'wb') as f:\n",
    "    pickle.dump(freq_encoding, f)"
   ]
  },
  {
   "cell_type": "code",
   "execution_count": 78,
   "id": "f8652fcc-94db-4c38-8671-19d839489078",
   "metadata": {},
   "outputs": [],
   "source": [
    "# Save the scaler\n",
    "with open('scaler.pickle', 'wb') as file:\n",
    "    pickle.dump(scaler, file)"
   ]
  }
 ],
 "metadata": {
  "kernelspec": {
   "display_name": "Python 3 (ipykernel)",
   "language": "python",
   "name": "python3"
  },
  "language_info": {
   "codemirror_mode": {
    "name": "ipython",
    "version": 3
   },
   "file_extension": ".py",
   "mimetype": "text/x-python",
   "name": "python",
   "nbconvert_exporter": "python",
   "pygments_lexer": "ipython3",
   "version": "3.12.4"
  }
 },
 "nbformat": 4,
 "nbformat_minor": 5
}
